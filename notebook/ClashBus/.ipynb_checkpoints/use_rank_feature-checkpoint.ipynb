{
 "cells": [
  {
   "cell_type": "code",
   "execution_count": 1,
   "metadata": {
    "collapsed": true
   },
   "outputs": [],
   "source": [
    "#coding=utf-8\n",
    "\n",
    "\"\"\"\n",
    "Author: wepon (http://2hwp.com/)\n",
    "Code: https://github.com/wepe/DataCastle-Solution\n",
    "\n",
    "\"\"\"\n",
    "import numpy as np\n",
    "import pandas as pd"
   ]
  },
  {
   "cell_type": "code",
   "execution_count": 2,
   "metadata": {
    "collapsed": false
   },
   "outputs": [],
   "source": [
    "#! pip install pickle #安装pickle\n",
    "import pickle #cPickle x修改为pickle"
   ]
  },
  {
   "cell_type": "code",
   "execution_count": 3,
   "metadata": {
    "collapsed": true
   },
   "outputs": [],
   "source": [
    "import sys,random"
   ]
  },
  {
   "cell_type": "code",
   "execution_count": 4,
   "metadata": {
    "collapsed": false
   },
   "outputs": [],
   "source": [
    "import os"
   ]
  },
  {
   "cell_type": "code",
   "execution_count": 5,
   "metadata": {
    "collapsed": true
   },
   "outputs": [],
   "source": [
    "import xgboost as xgb"
   ]
  },
  {
   "cell_type": "code",
   "execution_count": 6,
   "metadata": {
    "collapsed": false
   },
   "outputs": [
    {
     "ename": "FileExistsError",
     "evalue": "[WinError 183] 当文件已存在时，无法创建该文件。: 'featurescore'",
     "output_type": "error",
     "traceback": [
      "\u001b[1;31m---------------------------------------------------------------------------\u001b[0m",
      "\u001b[1;31mFileExistsError\u001b[0m                           Traceback (most recent call last)",
      "\u001b[1;32m<ipython-input-6-435ca19cf22b>\u001b[0m in \u001b[0;36m<module>\u001b[1;34m()\u001b[0m\n\u001b[1;32m----> 1\u001b[1;33m \u001b[0mos\u001b[0m\u001b[1;33m.\u001b[0m\u001b[0mmkdir\u001b[0m\u001b[1;33m(\u001b[0m\u001b[1;34m'featurescore'\u001b[0m\u001b[1;33m)\u001b[0m\u001b[1;31m#创建文件夹\u001b[0m\u001b[1;33m\u001b[0m\u001b[0m\n\u001b[0m\u001b[0;32m      2\u001b[0m \u001b[0mos\u001b[0m\u001b[1;33m.\u001b[0m\u001b[0mmkdir\u001b[0m\u001b[1;33m(\u001b[0m\u001b[1;34m'model'\u001b[0m\u001b[1;33m)\u001b[0m\u001b[1;33m\u001b[0m\u001b[0m\n\u001b[0;32m      3\u001b[0m \u001b[0mos\u001b[0m\u001b[1;33m.\u001b[0m\u001b[0mmkdir\u001b[0m\u001b[1;33m(\u001b[0m\u001b[1;34m'preds'\u001b[0m\u001b[1;33m)\u001b[0m\u001b[1;33m\u001b[0m\u001b[0m\n",
      "\u001b[1;31mFileExistsError\u001b[0m: [WinError 183] 当文件已存在时，无法创建该文件。: 'featurescore'"
     ]
    }
   ],
   "source": [
    "os.mkdir('featurescore')#创建文件夹\n",
    "os.mkdir('model')\n",
    "os.mkdir('preds')"
   ]
  },
  {
   "cell_type": "code",
   "execution_count": 7,
   "metadata": {
    "collapsed": true
   },
   "outputs": [],
   "source": [
    "#load data\n",
    "train_x = pd.read_csv(\"C:/Users/admin/Desktop/DataCastle-Solution-master/code/data/train_x_rank.csv\")\n",
    "train_y = pd.read_csv(\"C:/Users/admin/Desktop/DataCastle-Solution-master/code/data/train_y.csv\")"
   ]
  },
  {
   "cell_type": "code",
   "execution_count": 8,
   "metadata": {
    "collapsed": false
   },
   "outputs": [
    {
     "data": {
      "text/html": [
       "<div>\n",
       "<table border=\"1\" class=\"dataframe\">\n",
       "  <thead>\n",
       "    <tr style=\"text-align: right;\">\n",
       "      <th></th>\n",
       "      <th>uid</th>\n",
       "      <th>rx1</th>\n",
       "      <th>rx2</th>\n",
       "      <th>rx3</th>\n",
       "      <th>rx4</th>\n",
       "      <th>rx5</th>\n",
       "      <th>rx6</th>\n",
       "      <th>rx7</th>\n",
       "      <th>rx8</th>\n",
       "      <th>rx9</th>\n",
       "      <th>...</th>\n",
       "      <th>rx1098</th>\n",
       "      <th>rx1099</th>\n",
       "      <th>rx1100</th>\n",
       "      <th>rx1101</th>\n",
       "      <th>rx1102</th>\n",
       "      <th>rx1103</th>\n",
       "      <th>rx1104</th>\n",
       "      <th>rx1105</th>\n",
       "      <th>rx1106</th>\n",
       "      <th>y</th>\n",
       "    </tr>\n",
       "  </thead>\n",
       "  <tbody>\n",
       "    <tr>\n",
       "      <th>0</th>\n",
       "      <td>1792</td>\n",
       "      <td>5237.0</td>\n",
       "      <td>4740.0</td>\n",
       "      <td>8523.0</td>\n",
       "      <td>10757.0</td>\n",
       "      <td>13435.0</td>\n",
       "      <td>3221.0</td>\n",
       "      <td>10009.0</td>\n",
       "      <td>6792.0</td>\n",
       "      <td>6773.0</td>\n",
       "      <td>...</td>\n",
       "      <td>13528.0</td>\n",
       "      <td>10498.0</td>\n",
       "      <td>11353.0</td>\n",
       "      <td>9817.0</td>\n",
       "      <td>10439.0</td>\n",
       "      <td>12511.0</td>\n",
       "      <td>12091.0</td>\n",
       "      <td>11052.0</td>\n",
       "      <td>10334.0</td>\n",
       "      <td>1</td>\n",
       "    </tr>\n",
       "    <tr>\n",
       "      <th>1</th>\n",
       "      <td>4211</td>\n",
       "      <td>8040.0</td>\n",
       "      <td>436.0</td>\n",
       "      <td>1031.0</td>\n",
       "      <td>5686.0</td>\n",
       "      <td>10422.0</td>\n",
       "      <td>10691.0</td>\n",
       "      <td>7502.0</td>\n",
       "      <td>12942.0</td>\n",
       "      <td>11828.0</td>\n",
       "      <td>...</td>\n",
       "      <td>4951.0</td>\n",
       "      <td>4951.0</td>\n",
       "      <td>4951.0</td>\n",
       "      <td>4951.0</td>\n",
       "      <td>4951.0</td>\n",
       "      <td>4951.0</td>\n",
       "      <td>4951.0</td>\n",
       "      <td>4951.0</td>\n",
       "      <td>4951.0</td>\n",
       "      <td>1</td>\n",
       "    </tr>\n",
       "    <tr>\n",
       "      <th>2</th>\n",
       "      <td>14658</td>\n",
       "      <td>10996.0</td>\n",
       "      <td>12500.0</td>\n",
       "      <td>2842.0</td>\n",
       "      <td>360.0</td>\n",
       "      <td>6817.0</td>\n",
       "      <td>12690.0</td>\n",
       "      <td>2702.0</td>\n",
       "      <td>12218.0</td>\n",
       "      <td>10067.0</td>\n",
       "      <td>...</td>\n",
       "      <td>4951.0</td>\n",
       "      <td>4951.0</td>\n",
       "      <td>4951.0</td>\n",
       "      <td>4951.0</td>\n",
       "      <td>4951.0</td>\n",
       "      <td>4951.0</td>\n",
       "      <td>4951.0</td>\n",
       "      <td>4951.0</td>\n",
       "      <td>4951.0</td>\n",
       "      <td>1</td>\n",
       "    </tr>\n",
       "    <tr>\n",
       "      <th>3</th>\n",
       "      <td>17041</td>\n",
       "      <td>14919.0</td>\n",
       "      <td>8940.0</td>\n",
       "      <td>7811.0</td>\n",
       "      <td>7166.0</td>\n",
       "      <td>13527.0</td>\n",
       "      <td>7769.0</td>\n",
       "      <td>4630.0</td>\n",
       "      <td>14695.0</td>\n",
       "      <td>706.0</td>\n",
       "      <td>...</td>\n",
       "      <td>4951.0</td>\n",
       "      <td>4951.0</td>\n",
       "      <td>4951.0</td>\n",
       "      <td>4951.0</td>\n",
       "      <td>4951.0</td>\n",
       "      <td>4951.0</td>\n",
       "      <td>4951.0</td>\n",
       "      <td>4951.0</td>\n",
       "      <td>4951.0</td>\n",
       "      <td>1</td>\n",
       "    </tr>\n",
       "    <tr>\n",
       "      <th>4</th>\n",
       "      <td>15765</td>\n",
       "      <td>5812.0</td>\n",
       "      <td>3038.0</td>\n",
       "      <td>7042.0</td>\n",
       "      <td>4575.0</td>\n",
       "      <td>6817.0</td>\n",
       "      <td>12360.0</td>\n",
       "      <td>5378.0</td>\n",
       "      <td>6422.0</td>\n",
       "      <td>7097.0</td>\n",
       "      <td>...</td>\n",
       "      <td>14506.0</td>\n",
       "      <td>14883.0</td>\n",
       "      <td>14754.0</td>\n",
       "      <td>14884.0</td>\n",
       "      <td>14836.0</td>\n",
       "      <td>14989.0</td>\n",
       "      <td>14927.0</td>\n",
       "      <td>14847.0</td>\n",
       "      <td>14902.0</td>\n",
       "      <td>1</td>\n",
       "    </tr>\n",
       "  </tbody>\n",
       "</table>\n",
       "<p>5 rows × 1047 columns</p>\n",
       "</div>"
      ],
      "text/plain": [
       "     uid      rx1      rx2     rx3      rx4      rx5      rx6      rx7  \\\n",
       "0   1792   5237.0   4740.0  8523.0  10757.0  13435.0   3221.0  10009.0   \n",
       "1   4211   8040.0    436.0  1031.0   5686.0  10422.0  10691.0   7502.0   \n",
       "2  14658  10996.0  12500.0  2842.0    360.0   6817.0  12690.0   2702.0   \n",
       "3  17041  14919.0   8940.0  7811.0   7166.0  13527.0   7769.0   4630.0   \n",
       "4  15765   5812.0   3038.0  7042.0   4575.0   6817.0  12360.0   5378.0   \n",
       "\n",
       "       rx8      rx9 ...   rx1098   rx1099   rx1100   rx1101   rx1102   rx1103  \\\n",
       "0   6792.0   6773.0 ...  13528.0  10498.0  11353.0   9817.0  10439.0  12511.0   \n",
       "1  12942.0  11828.0 ...   4951.0   4951.0   4951.0   4951.0   4951.0   4951.0   \n",
       "2  12218.0  10067.0 ...   4951.0   4951.0   4951.0   4951.0   4951.0   4951.0   \n",
       "3  14695.0    706.0 ...   4951.0   4951.0   4951.0   4951.0   4951.0   4951.0   \n",
       "4   6422.0   7097.0 ...  14506.0  14883.0  14754.0  14884.0  14836.0  14989.0   \n",
       "\n",
       "    rx1104   rx1105   rx1106  y  \n",
       "0  12091.0  11052.0  10334.0  1  \n",
       "1   4951.0   4951.0   4951.0  1  \n",
       "2   4951.0   4951.0   4951.0  1  \n",
       "3   4951.0   4951.0   4951.0  1  \n",
       "4  14927.0  14847.0  14902.0  1  \n",
       "\n",
       "[5 rows x 1047 columns]"
      ]
     },
     "execution_count": 8,
     "metadata": {},
     "output_type": "execute_result"
    }
   ],
   "source": [
    "#合并train_x,train_y\n",
    "train_xy = pd.merge(train_x,train_y,on='uid')\n",
    "train_xy.head()"
   ]
  },
  {
   "cell_type": "code",
   "execution_count": 9,
   "metadata": {
    "collapsed": false
   },
   "outputs": [
    {
     "data": {
      "text/plain": [
       "(15000, 1047)"
      ]
     },
     "execution_count": 9,
     "metadata": {},
     "output_type": "execute_result"
    }
   ],
   "source": [
    "train_xy.shape#查看维度"
   ]
  },
  {
   "cell_type": "code",
   "execution_count": 10,
   "metadata": {
    "collapsed": false
   },
   "outputs": [
    {
     "data": {
      "text/plain": [
       "(15000, 1046)"
      ]
     },
     "execution_count": 10,
     "metadata": {},
     "output_type": "execute_result"
    }
   ],
   "source": [
    "train_x.shape"
   ]
  },
  {
   "cell_type": "code",
   "execution_count": 11,
   "metadata": {
    "collapsed": false
   },
   "outputs": [
    {
     "data": {
      "text/plain": [
       "(15000, 2)"
      ]
     },
     "execution_count": 11,
     "metadata": {},
     "output_type": "execute_result"
    }
   ],
   "source": [
    "train_y.shape"
   ]
  },
  {
   "cell_type": "code",
   "execution_count": 12,
   "metadata": {
    "collapsed": false
   },
   "outputs": [
    {
     "data": {
      "text/plain": [
       "0    1\n",
       "1    1\n",
       "2    1\n",
       "3    1\n",
       "4    1\n",
       "Name: y, dtype: int64"
      ]
     },
     "execution_count": 12,
     "metadata": {},
     "output_type": "execute_result"
    }
   ],
   "source": [
    "y = train_xy.y\n",
    "y.head()"
   ]
  },
  {
   "cell_type": "code",
   "execution_count": 13,
   "metadata": {
    "collapsed": false
   },
   "outputs": [
    {
     "data": {
      "text/html": [
       "<div>\n",
       "<table border=\"1\" class=\"dataframe\">\n",
       "  <thead>\n",
       "    <tr style=\"text-align: right;\">\n",
       "      <th></th>\n",
       "      <th>rx1</th>\n",
       "      <th>rx2</th>\n",
       "      <th>rx3</th>\n",
       "      <th>rx4</th>\n",
       "      <th>rx5</th>\n",
       "      <th>rx6</th>\n",
       "      <th>rx7</th>\n",
       "      <th>rx8</th>\n",
       "      <th>rx9</th>\n",
       "      <th>rx10</th>\n",
       "      <th>...</th>\n",
       "      <th>rx1097</th>\n",
       "      <th>rx1098</th>\n",
       "      <th>rx1099</th>\n",
       "      <th>rx1100</th>\n",
       "      <th>rx1101</th>\n",
       "      <th>rx1102</th>\n",
       "      <th>rx1103</th>\n",
       "      <th>rx1104</th>\n",
       "      <th>rx1105</th>\n",
       "      <th>rx1106</th>\n",
       "    </tr>\n",
       "  </thead>\n",
       "  <tbody>\n",
       "    <tr>\n",
       "      <th>0</th>\n",
       "      <td>5237.0</td>\n",
       "      <td>4740.0</td>\n",
       "      <td>8523.0</td>\n",
       "      <td>10757.0</td>\n",
       "      <td>13435.0</td>\n",
       "      <td>3221.0</td>\n",
       "      <td>10009.0</td>\n",
       "      <td>6792.0</td>\n",
       "      <td>6773.0</td>\n",
       "      <td>8681.0</td>\n",
       "      <td>...</td>\n",
       "      <td>12275.0</td>\n",
       "      <td>13528.0</td>\n",
       "      <td>10498.0</td>\n",
       "      <td>11353.0</td>\n",
       "      <td>9817.0</td>\n",
       "      <td>10439.0</td>\n",
       "      <td>12511.0</td>\n",
       "      <td>12091.0</td>\n",
       "      <td>11052.0</td>\n",
       "      <td>10334.0</td>\n",
       "    </tr>\n",
       "    <tr>\n",
       "      <th>1</th>\n",
       "      <td>8040.0</td>\n",
       "      <td>436.0</td>\n",
       "      <td>1031.0</td>\n",
       "      <td>5686.0</td>\n",
       "      <td>10422.0</td>\n",
       "      <td>10691.0</td>\n",
       "      <td>7502.0</td>\n",
       "      <td>12942.0</td>\n",
       "      <td>11828.0</td>\n",
       "      <td>3874.0</td>\n",
       "      <td>...</td>\n",
       "      <td>4951.0</td>\n",
       "      <td>4951.0</td>\n",
       "      <td>4951.0</td>\n",
       "      <td>4951.0</td>\n",
       "      <td>4951.0</td>\n",
       "      <td>4951.0</td>\n",
       "      <td>4951.0</td>\n",
       "      <td>4951.0</td>\n",
       "      <td>4951.0</td>\n",
       "      <td>4951.0</td>\n",
       "    </tr>\n",
       "    <tr>\n",
       "      <th>2</th>\n",
       "      <td>10996.0</td>\n",
       "      <td>12500.0</td>\n",
       "      <td>2842.0</td>\n",
       "      <td>360.0</td>\n",
       "      <td>6817.0</td>\n",
       "      <td>12690.0</td>\n",
       "      <td>2702.0</td>\n",
       "      <td>12218.0</td>\n",
       "      <td>10067.0</td>\n",
       "      <td>14431.0</td>\n",
       "      <td>...</td>\n",
       "      <td>4951.0</td>\n",
       "      <td>4951.0</td>\n",
       "      <td>4951.0</td>\n",
       "      <td>4951.0</td>\n",
       "      <td>4951.0</td>\n",
       "      <td>4951.0</td>\n",
       "      <td>4951.0</td>\n",
       "      <td>4951.0</td>\n",
       "      <td>4951.0</td>\n",
       "      <td>4951.0</td>\n",
       "    </tr>\n",
       "    <tr>\n",
       "      <th>3</th>\n",
       "      <td>14919.0</td>\n",
       "      <td>8940.0</td>\n",
       "      <td>7811.0</td>\n",
       "      <td>7166.0</td>\n",
       "      <td>13527.0</td>\n",
       "      <td>7769.0</td>\n",
       "      <td>4630.0</td>\n",
       "      <td>14695.0</td>\n",
       "      <td>706.0</td>\n",
       "      <td>32.0</td>\n",
       "      <td>...</td>\n",
       "      <td>4951.0</td>\n",
       "      <td>4951.0</td>\n",
       "      <td>4951.0</td>\n",
       "      <td>4951.0</td>\n",
       "      <td>4951.0</td>\n",
       "      <td>4951.0</td>\n",
       "      <td>4951.0</td>\n",
       "      <td>4951.0</td>\n",
       "      <td>4951.0</td>\n",
       "      <td>4951.0</td>\n",
       "    </tr>\n",
       "    <tr>\n",
       "      <th>4</th>\n",
       "      <td>5812.0</td>\n",
       "      <td>3038.0</td>\n",
       "      <td>7042.0</td>\n",
       "      <td>4575.0</td>\n",
       "      <td>6817.0</td>\n",
       "      <td>12360.0</td>\n",
       "      <td>5378.0</td>\n",
       "      <td>6422.0</td>\n",
       "      <td>7097.0</td>\n",
       "      <td>12799.0</td>\n",
       "      <td>...</td>\n",
       "      <td>14769.0</td>\n",
       "      <td>14506.0</td>\n",
       "      <td>14883.0</td>\n",
       "      <td>14754.0</td>\n",
       "      <td>14884.0</td>\n",
       "      <td>14836.0</td>\n",
       "      <td>14989.0</td>\n",
       "      <td>14927.0</td>\n",
       "      <td>14847.0</td>\n",
       "      <td>14902.0</td>\n",
       "    </tr>\n",
       "  </tbody>\n",
       "</table>\n",
       "<p>5 rows × 1045 columns</p>\n",
       "</div>"
      ],
      "text/plain": [
       "       rx1      rx2     rx3      rx4      rx5      rx6      rx7      rx8  \\\n",
       "0   5237.0   4740.0  8523.0  10757.0  13435.0   3221.0  10009.0   6792.0   \n",
       "1   8040.0    436.0  1031.0   5686.0  10422.0  10691.0   7502.0  12942.0   \n",
       "2  10996.0  12500.0  2842.0    360.0   6817.0  12690.0   2702.0  12218.0   \n",
       "3  14919.0   8940.0  7811.0   7166.0  13527.0   7769.0   4630.0  14695.0   \n",
       "4   5812.0   3038.0  7042.0   4575.0   6817.0  12360.0   5378.0   6422.0   \n",
       "\n",
       "       rx9     rx10   ...      rx1097   rx1098   rx1099   rx1100   rx1101  \\\n",
       "0   6773.0   8681.0   ...     12275.0  13528.0  10498.0  11353.0   9817.0   \n",
       "1  11828.0   3874.0   ...      4951.0   4951.0   4951.0   4951.0   4951.0   \n",
       "2  10067.0  14431.0   ...      4951.0   4951.0   4951.0   4951.0   4951.0   \n",
       "3    706.0     32.0   ...      4951.0   4951.0   4951.0   4951.0   4951.0   \n",
       "4   7097.0  12799.0   ...     14769.0  14506.0  14883.0  14754.0  14884.0   \n",
       "\n",
       "    rx1102   rx1103   rx1104   rx1105   rx1106  \n",
       "0  10439.0  12511.0  12091.0  11052.0  10334.0  \n",
       "1   4951.0   4951.0   4951.0   4951.0   4951.0  \n",
       "2   4951.0   4951.0   4951.0   4951.0   4951.0  \n",
       "3   4951.0   4951.0   4951.0   4951.0   4951.0  \n",
       "4  14836.0  14989.0  14927.0  14847.0  14902.0  \n",
       "\n",
       "[5 rows x 1045 columns]"
      ]
     },
     "execution_count": 13,
     "metadata": {},
     "output_type": "execute_result"
    }
   ],
   "source": [
    "train_x= train_xy.drop([\"uid\",'y'],axis=1)#去掉uid,y label\n",
    "train_x.head()"
   ]
  },
  {
   "cell_type": "code",
   "execution_count": 14,
   "metadata": {
    "collapsed": false
   },
   "outputs": [
    {
     "data": {
      "text/plain": [
       "(15000, 1045)"
      ]
     },
     "execution_count": 14,
     "metadata": {},
     "output_type": "execute_result"
    }
   ],
   "source": [
    "X = train_x/15000.0 #整体除以15000 行数\n",
    "train_x.shape"
   ]
  },
  {
   "cell_type": "code",
   "execution_count": 15,
   "metadata": {
    "collapsed": false
   },
   "outputs": [],
   "source": [
    "dtrain = xgb.DMatrix(X, label=y)#转成xgb.DMatrix()格式"
   ]
  },
  {
   "cell_type": "code",
   "execution_count": 16,
   "metadata": {
    "collapsed": true
   },
   "outputs": [],
   "source": [
    "#test data\n",
    "test = pd.read_csv(\"C:/Users/admin/Desktop/DataCastle-Solution-master/code/data/test_x_rank.csv\")\n",
    "test_uid = test.uid\n",
    "test = test.drop(\"uid\",axis=1)\n",
    "test_x = test/5000.0\n",
    "dtest = xgb.DMatrix(test_x)"
   ]
  },
  {
   "cell_type": "code",
   "execution_count": 17,
   "metadata": {
    "collapsed": false
   },
   "outputs": [
    {
     "data": {
      "text/plain": [
       "xgboost.core.DMatrix"
      ]
     },
     "execution_count": 17,
     "metadata": {},
     "output_type": "execute_result"
    }
   ],
   "source": [
    "type(dtest)"
   ]
  },
  {
   "cell_type": "code",
   "execution_count": 108,
   "metadata": {
    "collapsed": false
   },
   "outputs": [],
   "source": [
    "xgb.DMatrix??# 查看xgb.DMatrix函数"
   ]
  },
  {
   "cell_type": "code",
   "execution_count": 25,
   "metadata": {
    "collapsed": true
   },
   "outputs": [],
   "source": [
    "def pipeline(iteration,random_seed,gamma,max_depth,lambd,subsample,colsample_bytree,min_child_weight):\n",
    "    params={\n",
    "    'booster':'gbtree',\n",
    "    'objective': 'binary:logistic',\n",
    "    'scale_pos_weight': float(len(y)-sum(y))/float(sum(y)),\n",
    "    'eval_metric': 'auc',\n",
    "    'gamma':gamma,\n",
    "    'max_depth':max_depth,\n",
    "    'lambda':lambd,\n",
    "    'subsample':subsample,\n",
    "    'colsample_bytree':colsample_bytree,\n",
    "    'mn_child_weight':min_child_weight, \n",
    "    'eta': 0.04,\n",
    "    'seed':random_seed,\n",
    "    'nthread':8\n",
    "        }\n",
    "\n",
    "    watchlist  = [(dtrain,'train')]\n",
    "\n",
    "    # xgb.train\n",
    "    model = xgb.train(params,dtrain,num_boost_round=1350,evals=watchlist)# 迭代1350次\n",
    "    model.save_model('./model/xgb{0}.model'.format(iteration))\n",
    "\n",
    "    #predict test set\n",
    "    test_y = model.predict(dtest)\n",
    "    test_result = pd.DataFrame(columns=[\"uid\",\"score\"])\n",
    "    test_result.uid = test_uid\n",
    "    test_result.score = test_y\n",
    "    test_result.to_csv(\"./preds/xgb{0}.csv\".format(iteration),index=None,encoding='utf-8')\n",
    "\n",
    "    #save feature score\n",
    "    feature_score = model.get_fscore()\n",
    "    feature_score = sorted(feature_score.items(), key=lambda x:x[1],reverse=True)\n",
    "    fs = []\n",
    "    for (key,value) in feature_score:\n",
    "        fs.append(\"{0},{1}\\n\".format(key,value))\n",
    "\n",
    "    with open('./featurescore/feature_score_{0}.csv'.format(iteration),'w') as f:\n",
    "        f.writelines(\"feature,score\\n\")\n",
    "        f.writelines(fs)"
   ]
  },
  {
   "cell_type": "code",
   "execution_count": 26,
   "metadata": {
    "collapsed": true
   },
   "outputs": [],
   "source": [
    "#调参 然后调用\n",
    "if __name__ == \"__main__\":\n",
    "    random_seed = list(range(1000,2000,10))#加list\n",
    "    gamma = [i/1000.0 for i in range(100,200,1)]\n",
    "    max_depth = [6,7,8]\n",
    "    lambd = list(range(100,200,1))\n",
    "    subsample = [i/1000.0 for i in range(500,700,2)]\n",
    "    colsample_bytree = [i/1000.0 for i in range(250,350,1)]\n",
    "    min_child_weight = [i/1000.0 for i in range(200,300,1)]\n",
    "    random.shuffle(random_seed)\n",
    "    random.shuffle(gamma)\n",
    "    random.shuffle(max_depth)\n",
    "    random.shuffle(lambd)\n",
    "    random.shuffle(subsample)\n",
    "    random.shuffle(colsample_bytree)\n",
    "    random.shuffle(min_child_weight)\n",
    "    "
   ]
  },
  {
   "cell_type": "code",
   "execution_count": 29,
   "metadata": {
    "collapsed": true
   },
   "outputs": [],
   "source": [
    "pickle.dump??"
   ]
  },
  {
   "cell_type": "code",
   "execution_count": null,
   "metadata": {
    "collapsed": true
   },
   "outputs": [],
   "source": [
    "type(random_seed)"
   ]
  },
  {
   "cell_type": "code",
   "execution_count": null,
   "metadata": {
    "collapsed": true
   },
   "outputs": [],
   "source": [
    "type(seed)"
   ]
  },
  {
   "cell_type": "code",
   "execution_count": 35,
   "metadata": {
    "collapsed": false,
    "scrolled": false
   },
   "outputs": [
    {
     "ename": "TypeError",
     "evalue": "Required argument 'file' (pos 2) not found",
     "output_type": "error",
     "traceback": [
      "\u001b[1;31m---------------------------------------------------------------------------\u001b[0m",
      "\u001b[1;31mTypeError\u001b[0m                                 Traceback (most recent call last)",
      "\u001b[1;32m<ipython-input-35-0c5b9acf4aeb>\u001b[0m in \u001b[0;36m<module>\u001b[1;34m()\u001b[0m\n\u001b[0;32m      1\u001b[0m \u001b[1;31m#save params for reproducing\u001b[0m\u001b[1;33m\u001b[0m\u001b[1;33m\u001b[0m\u001b[0m\n\u001b[0;32m      2\u001b[0m \u001b[1;32mwith\u001b[0m \u001b[0mopen\u001b[0m\u001b[1;33m(\u001b[0m\u001b[1;34m'params.pkl'\u001b[0m\u001b[1;33m,\u001b[0m\u001b[1;34m'w'\u001b[0m\u001b[1;33m)\u001b[0m \u001b[1;32mas\u001b[0m \u001b[0mf\u001b[0m\u001b[1;33m:\u001b[0m\u001b[1;33m\u001b[0m\u001b[0m\n\u001b[1;32m----> 3\u001b[1;33m     \u001b[0mpickle\u001b[0m\u001b[1;33m.\u001b[0m\u001b[0mdump\u001b[0m\u001b[1;33m(\u001b[0m\u001b[1;33m(\u001b[0m\u001b[0mrandom_seed\u001b[0m\u001b[1;33m,\u001b[0m\u001b[0mgamma\u001b[0m\u001b[1;33m,\u001b[0m\u001b[0mmax_depth\u001b[0m\u001b[1;33m,\u001b[0m\u001b[0mlambd\u001b[0m\u001b[1;33m,\u001b[0m\u001b[0msubsample\u001b[0m\u001b[1;33m,\u001b[0m\u001b[0mcolsample_bytree\u001b[0m\u001b[1;33m,\u001b[0m\u001b[0mstr\u001b[0m\u001b[1;33m(\u001b[0m\u001b[0mmin_child_weight\u001b[0m\u001b[1;33m)\u001b[0m\u001b[1;33m,\u001b[0m\u001b[0mf\u001b[0m\u001b[1;33m)\u001b[0m\u001b[1;33m)\u001b[0m\u001b[1;33m\u001b[0m\u001b[0m\n\u001b[0m\u001b[0;32m      4\u001b[0m \u001b[1;33m\u001b[0m\u001b[0m\n",
      "\u001b[1;31mTypeError\u001b[0m: Required argument 'file' (pos 2) not found"
     ]
    }
   ],
   "source": [
    "#save params for reproducing\n",
    "with open('params.pkl','w') as f:\n",
    "    pickle.dump((random_seed,gamma,max_depth,lambd,subsample,colsample_bytree,str(min_child_weight),f))\n",
    "    "
   ]
  },
  {
   "cell_type": "code",
   "execution_count": 24,
   "metadata": {
    "collapsed": false
   },
   "outputs": [],
   "source": [
    "#to reproduce my result, uncomment following lines\n",
    "\"\"\"\n",
    "with open('params_for_reproducing.pkl','r') as f:\n",
    "    random_seed,gamma,max_depth,lambd,subsample,colsample_bytree,min_child_weight = cPickle.load(f)    \n",
    "\"\"\"\n",
    "\n",
    "#train 100 xgb\n",
    "for i in range(100):\n",
    "    pipeline(i,random_seed[i],gamma[i],max_depth[i%3],lambd[i],subsample[i],colsample_bytree[i],min_child_weight[i])"
   ]
  }
 ],
 "metadata": {
  "kernelspec": {
   "display_name": "Python [Root]",
   "language": "python",
   "name": "Python [Root]"
  },
  "language_info": {
   "codemirror_mode": {
    "name": "ipython",
    "version": 3
   },
   "file_extension": ".py",
   "mimetype": "text/x-python",
   "name": "python",
   "nbconvert_exporter": "python",
   "pygments_lexer": "ipython3",
   "version": "3.5.1"
  }
 },
 "nbformat": 4,
 "nbformat_minor": 0
}
